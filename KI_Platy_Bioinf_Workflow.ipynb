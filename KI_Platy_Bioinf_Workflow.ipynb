{
 "cells": [
  {
   "cell_type": "code",
   "execution_count": null,
   "metadata": {
    "collapsed": true
   },
   "outputs": [],
   "source": [
    "# Start in KI_Platy root folder\n",
    "\n",
    "# Prep raw data\n",
    "data/Bioinf/extract_unzip_prep_rawdata.sh # This does the following:\n",
    "    # Unzips all original files\n",
    "    # Makes configs for Bokulich qc\n",
    "    # Runs Bokulich qc\n",
    "    # Makes configs for Illumina paired end merging\n",
    "    # Merges Illumina pairs, includes Q30 check\n",
    "    # Filters merged reads"
   ]
  },
  {
   "cell_type": "code",
   "execution_count": null,
   "metadata": {
    "collapsed": true
   },
   "outputs": [],
   "source": [
    "# Next, start using SymITS2 by Ross Cunning https://github.com/jrcunning/SymITS2\n",
    "~/SymITS2/qc_trim_reads.sh # This does the following:\n",
    "    # Adds QIIME labels\n",
    "    # Identifies chimeric sequences\n",
    "    # Filters out chimeric sequences\n",
    "    # Runs cutadapt 4 times\n",
    "    # Removes intermediate files from cutadapt process"
   ]
  },
  {
   "cell_type": "code",
   "execution_count": null,
   "metadata": {
    "collapsed": true
   },
   "outputs": [],
   "source": [
    "count_seqs.py -i data/fasta/combined_seqs_trimmed.fasta # Count how many seqs there are after filtering"
   ]
  },
  {
   "cell_type": "code",
   "execution_count": null,
   "metadata": {
    "collapsed": true
   },
   "outputs": [],
   "source": [
    "# Cluster at 97% within samples (each sample is clustered independently)\n",
    "~/SymITS2/otus_97_bysample.sh data/fasta/combined_seqs_trimmed.fasta data/Bioinf/clust\n",
    "# Creates data/Bioinf/clust/all_rep_set_rep_set.fasta for downstream use"
   ]
  },
  {
   "cell_type": "code",
   "execution_count": null,
   "metadata": {
    "collapsed": true
   },
   "outputs": [],
   "source": [
    "# Use global alignment to identify sequences\n",
    "R --vanilla < ~/SymITS2/run_nw.R --args data/Bioinf/clust/all_rep_set_rep_set.fasta data/ITS2db_trimmed_derep.fasta\n",
    "# Creates data/Bioinf/clust/all_rep_set_rep_set_nw_tophits.tsv for downstream use"
   ]
  },
  {
   "cell_type": "code",
   "execution_count": null,
   "metadata": {
    "collapsed": true
   },
   "outputs": [],
   "source": [
    "R --vanilla < ~/SymITS2/build_phyloseq.R --args \n",
    "data/Bioinf/clust/all_rep_set_rep_set_nw_tophits.tsv \\\n",
    "data/RAnalysis/Data/Moorea_sample_info.tsv \\\n",
    "data/Bioinf/clust/97_otus_bysample.tsv \\\n",
    "data/Bioinf/ITS2db_trimmed_notuniques_otus.txt \\\n",
    "data/RAnalysis/Data/KI_Platy.RData"
   ]
  },
  {
   "cell_type": "code",
   "execution_count": null,
   "metadata": {
    "collapsed": true
   },
   "outputs": [],
   "source": []
  },
  {
   "cell_type": "code",
   "execution_count": null,
   "metadata": {
    "collapsed": true
   },
   "outputs": [],
   "source": []
  },
  {
   "cell_type": "code",
   "execution_count": null,
   "metadata": {
    "collapsed": true
   },
   "outputs": [],
   "source": []
  }
 ],
 "metadata": {
  "kernelspec": {
   "display_name": "Bash",
   "language": "bash",
   "name": "bash"
  },
  "language_info": {
   "codemirror_mode": "shell",
   "file_extension": ".sh",
   "mimetype": "text/x-sh",
   "name": "bash"
  }
 },
 "nbformat": 4,
 "nbformat_minor": 2
}
